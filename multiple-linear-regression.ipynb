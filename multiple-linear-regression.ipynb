{
 "cells": [
  {
   "attachments": {},
   "cell_type": "markdown",
   "metadata": {},
   "source": [
    "# CO<sub>2</sub> Emissions per Vehicle: Multiple Linear Regression\n",
    "## Summary\n",
    "This multiple linear regression data analysis uses a dataset provided by the Canadian government that contains model-specific fuel consumption ratings and estimated CO<sub>2</sub> emissions for 2023 vehicles.\n",
    "## Importing Libraries and Data"
   ]
  },
  {
   "cell_type": "code",
   "execution_count": 47,
   "metadata": {},
   "outputs": [],
   "source": [
    "import pandas as pd\n",
    "import numpy as np\n",
    "import matplotlib.pyplot as plt\n",
    "\n",
    "import warnings\n",
    "warnings.filterwarnings('ignore')\n",
    "\n",
    "from sklearn import linear_model\n",
    "LR = linear_model.LinearRegression()"
   ]
  },
  {
   "cell_type": "code",
   "execution_count": 48,
   "metadata": {},
   "outputs": [],
   "source": [
    "df = pd.read_csv(r'C:\\Users\\tiffa\\Documents\\GitHub\\CO2-emissions-by-vehicle\\resources\\2023fuelconsumptionCO2.csv')"
   ]
  },
  {
   "cell_type": "code",
   "execution_count": 49,
   "metadata": {},
   "outputs": [
    {
     "data": {
      "text/plain": [
       "Index(['MODELYEAR', 'MAKE', 'MODEL', 'VEHICLECLASS', 'ENGINESIZE', 'CYLINDERS',\n",
       "       'TRANSMISSION', 'FUELTYPE', 'FUELCONSUMPTION_CITY',\n",
       "       'FUELCONSUMPTION_HWY', 'FUELCONSUMPTION_COMB',\n",
       "       'FUELCONSUMPTION_COMB_MPG', 'CO2EMISSIONS', 'CO2_rating'],\n",
       "      dtype='object')"
      ]
     },
     "execution_count": 49,
     "metadata": {},
     "output_type": "execute_result"
    }
   ],
   "source": [
    "df.columns"
   ]
  },
  {
   "cell_type": "code",
   "execution_count": 50,
   "metadata": {},
   "outputs": [],
   "source": [
    "# changing column names from uppercase to lowercase for convenience\n",
    "df.columns = df.columns.str.lower()"
   ]
  },
  {
   "cell_type": "code",
   "execution_count": 51,
   "metadata": {},
   "outputs": [
    {
     "data": {
      "text/html": [
       "<div>\n",
       "<style scoped>\n",
       "    .dataframe tbody tr th:only-of-type {\n",
       "        vertical-align: middle;\n",
       "    }\n",
       "\n",
       "    .dataframe tbody tr th {\n",
       "        vertical-align: top;\n",
       "    }\n",
       "\n",
       "    .dataframe thead th {\n",
       "        text-align: right;\n",
       "    }\n",
       "</style>\n",
       "<table border=\"1\" class=\"dataframe\">\n",
       "  <thead>\n",
       "    <tr style=\"text-align: right;\">\n",
       "      <th></th>\n",
       "      <th>enginesize</th>\n",
       "      <th>cylinders</th>\n",
       "      <th>fuelconsumption_city</th>\n",
       "      <th>fuelconsumption_hwy</th>\n",
       "      <th>fuelconsumption_comb</th>\n",
       "      <th>co2emissions</th>\n",
       "    </tr>\n",
       "  </thead>\n",
       "  <tbody>\n",
       "    <tr>\n",
       "      <th>0</th>\n",
       "      <td>1.5</td>\n",
       "      <td>4</td>\n",
       "      <td>7.9</td>\n",
       "      <td>6.3</td>\n",
       "      <td>7.2</td>\n",
       "      <td>167</td>\n",
       "    </tr>\n",
       "    <tr>\n",
       "      <th>1</th>\n",
       "      <td>1.5</td>\n",
       "      <td>4</td>\n",
       "      <td>8.1</td>\n",
       "      <td>6.5</td>\n",
       "      <td>7.4</td>\n",
       "      <td>172</td>\n",
       "    </tr>\n",
       "    <tr>\n",
       "      <th>2</th>\n",
       "      <td>1.5</td>\n",
       "      <td>4</td>\n",
       "      <td>8.9</td>\n",
       "      <td>6.5</td>\n",
       "      <td>7.8</td>\n",
       "      <td>181</td>\n",
       "    </tr>\n",
       "    <tr>\n",
       "      <th>3</th>\n",
       "      <td>3.5</td>\n",
       "      <td>6</td>\n",
       "      <td>12.6</td>\n",
       "      <td>9.4</td>\n",
       "      <td>11.2</td>\n",
       "      <td>263</td>\n",
       "    </tr>\n",
       "    <tr>\n",
       "      <th>4</th>\n",
       "      <td>3.0</td>\n",
       "      <td>6</td>\n",
       "      <td>13.8</td>\n",
       "      <td>11.2</td>\n",
       "      <td>12.4</td>\n",
       "      <td>291</td>\n",
       "    </tr>\n",
       "  </tbody>\n",
       "</table>\n",
       "</div>"
      ],
      "text/plain": [
       "   enginesize  cylinders  fuelconsumption_city  fuelconsumption_hwy  \\\n",
       "0         1.5          4                   7.9                  6.3   \n",
       "1         1.5          4                   8.1                  6.5   \n",
       "2         1.5          4                   8.9                  6.5   \n",
       "3         3.5          6                  12.6                  9.4   \n",
       "4         3.0          6                  13.8                 11.2   \n",
       "\n",
       "   fuelconsumption_comb  co2emissions  \n",
       "0                   7.2           167  \n",
       "1                   7.4           172  \n",
       "2                   7.8           181  \n",
       "3                  11.2           263  \n",
       "4                  12.4           291  "
      ]
     },
     "execution_count": 51,
     "metadata": {},
     "output_type": "execute_result"
    }
   ],
   "source": [
    "# extracting specific columns and assigning to a new dataframe\n",
    "cdf = df[['enginesize', 'cylinders', 'fuelconsumption_city', 'fuelconsumption_hwy', 'fuelconsumption_comb', 'co2emissions']]\n",
    "cdf.head()"
   ]
  },
  {
   "cell_type": "code",
   "execution_count": 52,
   "metadata": {},
   "outputs": [
    {
     "data": {
      "image/png": "[encoded data removed]",
      "text/plain": [
       "<Figure size 640x480 with 1 Axes>"
      ]
     },
     "metadata": {},
     "output_type": "display_data"
    }
   ],
   "source": [
    "# observing the distribution of the data using 'enginesize'\n",
    "plt.scatter(cdf.enginesize, cdf.co2emissions, color='blue')\n",
    "plt.xlabel('Engine Size')\n",
    "plt.ylabel('Emissions')\n",
    "plt.show()"
   ]
  },
  {
   "attachments": {},
   "cell_type": "markdown",
   "metadata": {},
   "source": [
    "## Splitting and Training\n",
    "We'll begin the MLR by splitting the dataset into training and testing sets for our model. We'll split the dataset randomly using np.random.rand() with 80% of the dataset being using for training and 20% for testing. To do this we'll create a mask that accounts for a random 80% chunk of our dataframe and assign it to a 'train' set then use the rest for our 'test' set (20%)."
   ]
  },
  {
   "cell_type": "code",
   "execution_count": 53,
   "metadata": {},
   "outputs": [],
   "source": [
    "# splitting the data 80:20\n",
    "msk = np.random.rand(len(df)) < 0.8\n",
    "train = cdf[msk]\n",
    "test = cdf[~msk]"
   ]
  },
  {
   "cell_type": "code",
   "execution_count": 54,
   "metadata": {},
   "outputs": [
    {
     "data": {
      "image/png": "[encoded data removed]",
      "text/plain": [
       "<Figure size 640x480 with 1 Axes>"
      ]
     },
     "metadata": {},
     "output_type": "display_data"
    }
   ],
   "source": [
    "# observing the distribution of the training data using 'enginesize'\n",
    "plt.scatter(train.enginesize, train.co2emissions, color='blue')\n",
    "plt.xlabel('Engine Size')\n",
    "plt.ylabel('Emissions')\n",
    "plt.show()"
   ]
  },
  {
   "attachments": {},
   "cell_type": "markdown",
   "metadata": {},
   "source": [
    "## Modeling\n",
    "As we saw in our exploration of the data using simple linear regression, there are multiple variables that impact CO<sub>2</sub> emissions. Because of this we'll use multiple linear regression. Again, we'll model the data using the 'sci-kit learn' library which I've imported in the first section.\n",
    "### Model 1"
   ]
  },
  {
   "cell_type": "code",
   "execution_count": 55,
   "metadata": {},
   "outputs": [
    {
     "name": "stdout",
     "output_type": "stream",
     "text": [
      "Coefficients: [[ 0.51203535  2.03423186 20.81088405]]\n"
     ]
    }
   ],
   "source": [
    "# setting our independent variables\n",
    "x = np.asanyarray(train[['enginesize', 'cylinders', 'fuelconsumption_comb']])\n",
    "y = np.asanyarray(train[['co2emissions']])\n",
    "\n",
    "# fitting the model\n",
    "LR.fit(x, y)\n",
    "\n",
    "# printing the coefficients\n",
    "print(f'Coefficients: {LR.coef_}')"
   ]
  },
  {
   "attachments": {},
   "cell_type": "markdown",
   "metadata": {},
   "source": [
    "Next we'll make our predictions."
   ]
  },
  {
   "cell_type": "code",
   "execution_count": 56,
   "metadata": {},
   "outputs": [
    {
     "name": "stdout",
     "output_type": "stream",
     "text": [
      "The residual sum of squares (RSS) is: 184.78107435300467\n",
      "The variance score is: 0.9512785210521395\n"
     ]
    }
   ],
   "source": [
    "# making predictions\n",
    "y_hat = LR.predict(train[['enginesize', 'cylinders', 'fuelconsumption_comb']])\n",
    "x = np.asanyarray(train[['enginesize', 'cylinders', 'fuelconsumption_comb']])\n",
    "y = np.asanyarray(train[['co2emissions']])\n",
    "\n",
    "print(f'The residual sum of squares (RSS) is: {np.mean((y_hat - y)**2)}')\n",
    "print(f'The variance score is: {LR.score(x, y)}')"
   ]
  },
  {
   "attachments": {},
   "cell_type": "markdown",
   "metadata": {},
   "source": [
    "Given that the best variance score we could possibly have is 1, this multiple regression model seems to be capturing variation very well. Now let's compare it with another MLR model that uses different attributes.\n",
    "### Model 2\n",
    "For the next model we will use 'fuelconsumption_city', 'fuelconsumption_hwy', and 'fuelconsumption_comb' as our attributes."
   ]
  },
  {
   "cell_type": "code",
   "execution_count": 57,
   "metadata": {},
   "outputs": [
    {
     "name": "stdout",
     "output_type": "stream",
     "text": [
      "The coefficients are: [[10.98114685  8.9634001   2.20078229]]\n"
     ]
    }
   ],
   "source": [
    "# setting our independent variables\n",
    "x = np.asanyarray(train[['fuelconsumption_city', 'fuelconsumption_hwy', 'fuelconsumption_comb']])\n",
    "y = np.asanyarray(train[['co2emissions']])\n",
    "\n",
    "# fitting the model\n",
    "LR.fit(x, y)\n",
    "\n",
    "#printing the coefficients\n",
    "print(f'The coefficients are: {LR.coef_}')"
   ]
  },
  {
   "cell_type": "code",
   "execution_count": 58,
   "metadata": {},
   "outputs": [
    {
     "name": "stdout",
     "output_type": "stream",
     "text": [
      "The residual sum of squares (RSS) is: 191.130545503193\n",
      "The variance score is: 0.9496043472978353\n"
     ]
    }
   ],
   "source": [
    "y_hat = LR.predict(train[['fuelconsumption_city', 'fuelconsumption_hwy', 'fuelconsumption_comb']])\n",
    "x = np.asanyarray(train[['fuelconsumption_city', 'fuelconsumption_hwy', 'fuelconsumption_comb']])\n",
    "y = np.asanyarray(train[['co2emissions']])\n",
    "\n",
    "print(f'The residual sum of squares (RSS) is: {np.mean((y_hat - y)**2)}')\n",
    "print(f'The variance score is: {LR.score(x, y)}')"
   ]
  },
  {
   "attachments": {},
   "cell_type": "markdown",
   "metadata": {},
   "source": [
    "## Model Evaluation\n",
    "The variance scores of both models are great and very similar with a score of 0.95 for either one, however the first model predicts the values more accurately with a RSS score of 185 compared to the second model's RSS score of 191. In the next section of the data analysis we'll explore polynomial regression.\n",
    "\n",
    "*Data analysis continued in 'CO<sub>2</sub> Emissions per Vehicle: Polynomial Regression'.*"
   ]
  }
 ],
 "metadata": {
  "kernelspec": {
   "display_name": "base",
   "language": "python",
   "name": "python3"
  },
  "language_info": {
   "codemirror_mode": {
    "name": "ipython",
    "version": 3
   },
   "file_extension": ".py",
   "mimetype": "text/x-python",
   "name": "python",
   "nbconvert_exporter": "python",
   "pygments_lexer": "ipython3",
   "version": "3.9.13"
  },
  "orig_nbformat": 4
 },
 "nbformat": 4,
 "nbformat_minor": 2
}
