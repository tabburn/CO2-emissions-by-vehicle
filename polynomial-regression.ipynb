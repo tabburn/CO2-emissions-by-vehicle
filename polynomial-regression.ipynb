{
 "cells": [
  {
   "attachments": {},
   "cell_type": "markdown",
   "metadata": {},
   "source": [
    "# CO<sub>2</sub> Emissions per Vehicle: Polynomial Regression\n",
    "## Summary\n",
    "This is the third and final part of the 'CO<sub>2</sub> Emissions per Vehicle' analysis in which we will be attempting to find a model that best fits our <a href=\"https://github.com/tabburn/CO2-emissions-by-vehicle/blob/main/resources/2023fuelconsumptionCO2.csv\">data</a> (provided by the Canadian government) in order to predict emissions of future vehicles. In this section we'll be taking a look at how our data fits a polynomial regression. We will also explore what degree best fits the data by observing the line itself and by also interpreting certain metrics per order (quadratic and cubic).\n",
    "## Importing Libraries and Data"
   ]
  },
  {
   "cell_type": "code",
   "execution_count": 134,
   "metadata": {},
   "outputs": [],
   "source": [
    "import pandas as pd\n",
    "import numpy as np\n",
    "import matplotlib.pyplot as plt\n",
    "\n",
    "from sklearn.preprocessing import PolynomialFeatures\n",
    "from sklearn import linear_model\n",
    "\n",
    "from sklearn.metrics import r2_score"
   ]
  },
  {
   "cell_type": "code",
   "execution_count": 135,
   "metadata": {},
   "outputs": [],
   "source": [
    "df = pd.read_csv(r'C:\\Users\\tiffa\\Documents\\GitHub\\CO2-emissions-by-vehicle\\resources\\2023fuelconsumptionCO2.csv')"
   ]
  },
  {
   "cell_type": "code",
   "execution_count": 136,
   "metadata": {},
   "outputs": [
    {
     "data": {
      "text/html": [
       "<div>\n",
       "<style scoped>\n",
       "    .dataframe tbody tr th:only-of-type {\n",
       "        vertical-align: middle;\n",
       "    }\n",
       "\n",
       "    .dataframe tbody tr th {\n",
       "        vertical-align: top;\n",
       "    }\n",
       "\n",
       "    .dataframe thead th {\n",
       "        text-align: right;\n",
       "    }\n",
       "</style>\n",
       "<table border=\"1\" class=\"dataframe\">\n",
       "  <thead>\n",
       "    <tr style=\"text-align: right;\">\n",
       "      <th></th>\n",
       "      <th>MODELYEAR</th>\n",
       "      <th>MAKE</th>\n",
       "      <th>MODEL</th>\n",
       "      <th>VEHICLECLASS</th>\n",
       "      <th>ENGINESIZE</th>\n",
       "      <th>CYLINDERS</th>\n",
       "      <th>TRANSMISSION</th>\n",
       "      <th>FUELTYPE</th>\n",
       "      <th>FUELCONSUMPTION_CITY</th>\n",
       "      <th>FUELCONSUMPTION_HWY</th>\n",
       "      <th>FUELCONSUMPTION_COMB</th>\n",
       "      <th>FUELCONSUMPTION_COMB_MPG</th>\n",
       "      <th>CO2EMISSIONS</th>\n",
       "      <th>CO2_rating</th>\n",
       "    </tr>\n",
       "  </thead>\n",
       "  <tbody>\n",
       "    <tr>\n",
       "      <th>0</th>\n",
       "      <td>2023</td>\n",
       "      <td>Acura</td>\n",
       "      <td>Integra</td>\n",
       "      <td>Full-size</td>\n",
       "      <td>1.5</td>\n",
       "      <td>4</td>\n",
       "      <td>AV7</td>\n",
       "      <td>Z</td>\n",
       "      <td>7.9</td>\n",
       "      <td>6.3</td>\n",
       "      <td>7.2</td>\n",
       "      <td>39</td>\n",
       "      <td>167</td>\n",
       "      <td>6</td>\n",
       "    </tr>\n",
       "    <tr>\n",
       "      <th>1</th>\n",
       "      <td>2023</td>\n",
       "      <td>Acura</td>\n",
       "      <td>Integra A-SPEC</td>\n",
       "      <td>Full-size</td>\n",
       "      <td>1.5</td>\n",
       "      <td>4</td>\n",
       "      <td>AV7</td>\n",
       "      <td>Z</td>\n",
       "      <td>8.1</td>\n",
       "      <td>6.5</td>\n",
       "      <td>7.4</td>\n",
       "      <td>38</td>\n",
       "      <td>172</td>\n",
       "      <td>6</td>\n",
       "    </tr>\n",
       "    <tr>\n",
       "      <th>2</th>\n",
       "      <td>2023</td>\n",
       "      <td>Acura</td>\n",
       "      <td>Integra A-SPEC</td>\n",
       "      <td>Full-size</td>\n",
       "      <td>1.5</td>\n",
       "      <td>4</td>\n",
       "      <td>M6</td>\n",
       "      <td>Z</td>\n",
       "      <td>8.9</td>\n",
       "      <td>6.5</td>\n",
       "      <td>7.8</td>\n",
       "      <td>36</td>\n",
       "      <td>181</td>\n",
       "      <td>6</td>\n",
       "    </tr>\n",
       "    <tr>\n",
       "      <th>3</th>\n",
       "      <td>2023</td>\n",
       "      <td>Acura</td>\n",
       "      <td>MDX SH-AWD</td>\n",
       "      <td>SUV: Small</td>\n",
       "      <td>3.5</td>\n",
       "      <td>6</td>\n",
       "      <td>AS10</td>\n",
       "      <td>Z</td>\n",
       "      <td>12.6</td>\n",
       "      <td>9.4</td>\n",
       "      <td>11.2</td>\n",
       "      <td>25</td>\n",
       "      <td>263</td>\n",
       "      <td>4</td>\n",
       "    </tr>\n",
       "    <tr>\n",
       "      <th>4</th>\n",
       "      <td>2023</td>\n",
       "      <td>Acura</td>\n",
       "      <td>MDX SH-AWD Type S</td>\n",
       "      <td>SUV: Standard</td>\n",
       "      <td>3.0</td>\n",
       "      <td>6</td>\n",
       "      <td>AS10</td>\n",
       "      <td>Z</td>\n",
       "      <td>13.8</td>\n",
       "      <td>11.2</td>\n",
       "      <td>12.4</td>\n",
       "      <td>23</td>\n",
       "      <td>291</td>\n",
       "      <td>4</td>\n",
       "    </tr>\n",
       "  </tbody>\n",
       "</table>\n",
       "</div>"
      ],
      "text/plain": [
       "   MODELYEAR   MAKE              MODEL   VEHICLECLASS  ENGINESIZE  CYLINDERS  \\\n",
       "0       2023  Acura            Integra      Full-size         1.5          4   \n",
       "1       2023  Acura     Integra A-SPEC      Full-size         1.5          4   \n",
       "2       2023  Acura     Integra A-SPEC      Full-size         1.5          4   \n",
       "3       2023  Acura         MDX SH-AWD     SUV: Small         3.5          6   \n",
       "4       2023  Acura  MDX SH-AWD Type S  SUV: Standard         3.0          6   \n",
       "\n",
       "  TRANSMISSION FUELTYPE  FUELCONSUMPTION_CITY  FUELCONSUMPTION_HWY  \\\n",
       "0          AV7        Z                   7.9                  6.3   \n",
       "1          AV7        Z                   8.1                  6.5   \n",
       "2           M6        Z                   8.9                  6.5   \n",
       "3         AS10        Z                  12.6                  9.4   \n",
       "4         AS10        Z                  13.8                 11.2   \n",
       "\n",
       "   FUELCONSUMPTION_COMB  FUELCONSUMPTION_COMB_MPG  CO2EMISSIONS  CO2_rating  \n",
       "0                   7.2                        39           167           6  \n",
       "1                   7.4                        38           172           6  \n",
       "2                   7.8                        36           181           6  \n",
       "3                  11.2                        25           263           4  \n",
       "4                  12.4                        23           291           4  "
      ]
     },
     "execution_count": 136,
     "metadata": {},
     "output_type": "execute_result"
    }
   ],
   "source": [
    "df.head()"
   ]
  },
  {
   "cell_type": "code",
   "execution_count": 137,
   "metadata": {},
   "outputs": [
    {
     "data": {
      "text/plain": [
       "Index(['MODELYEAR', 'MAKE', 'MODEL', 'VEHICLECLASS', 'ENGINESIZE', 'CYLINDERS',\n",
       "       'TRANSMISSION', 'FUELTYPE', 'FUELCONSUMPTION_CITY',\n",
       "       'FUELCONSUMPTION_HWY', 'FUELCONSUMPTION_COMB',\n",
       "       'FUELCONSUMPTION_COMB_MPG', 'CO2EMISSIONS', 'CO2_rating'],\n",
       "      dtype='object')"
      ]
     },
     "execution_count": 137,
     "metadata": {},
     "output_type": "execute_result"
    }
   ],
   "source": [
    "df.columns"
   ]
  },
  {
   "cell_type": "code",
   "execution_count": 138,
   "metadata": {},
   "outputs": [],
   "source": [
    "# changing column names from uppercase to lowercase for convenience\n",
    "df.columns = df.columns.str.lower()"
   ]
  },
  {
   "cell_type": "code",
   "execution_count": 139,
   "metadata": {},
   "outputs": [
    {
     "data": {
      "text/html": [
       "<div>\n",
       "<style scoped>\n",
       "    .dataframe tbody tr th:only-of-type {\n",
       "        vertical-align: middle;\n",
       "    }\n",
       "\n",
       "    .dataframe tbody tr th {\n",
       "        vertical-align: top;\n",
       "    }\n",
       "\n",
       "    .dataframe thead th {\n",
       "        text-align: right;\n",
       "    }\n",
       "</style>\n",
       "<table border=\"1\" class=\"dataframe\">\n",
       "  <thead>\n",
       "    <tr style=\"text-align: right;\">\n",
       "      <th></th>\n",
       "      <th>enginesize</th>\n",
       "      <th>cylinders</th>\n",
       "      <th>fuelconsumption_comb</th>\n",
       "      <th>co2emissions</th>\n",
       "    </tr>\n",
       "  </thead>\n",
       "  <tbody>\n",
       "    <tr>\n",
       "      <th>0</th>\n",
       "      <td>1.5</td>\n",
       "      <td>4</td>\n",
       "      <td>7.2</td>\n",
       "      <td>167</td>\n",
       "    </tr>\n",
       "    <tr>\n",
       "      <th>1</th>\n",
       "      <td>1.5</td>\n",
       "      <td>4</td>\n",
       "      <td>7.4</td>\n",
       "      <td>172</td>\n",
       "    </tr>\n",
       "    <tr>\n",
       "      <th>2</th>\n",
       "      <td>1.5</td>\n",
       "      <td>4</td>\n",
       "      <td>7.8</td>\n",
       "      <td>181</td>\n",
       "    </tr>\n",
       "    <tr>\n",
       "      <th>3</th>\n",
       "      <td>3.5</td>\n",
       "      <td>6</td>\n",
       "      <td>11.2</td>\n",
       "      <td>263</td>\n",
       "    </tr>\n",
       "    <tr>\n",
       "      <th>4</th>\n",
       "      <td>3.0</td>\n",
       "      <td>6</td>\n",
       "      <td>12.4</td>\n",
       "      <td>291</td>\n",
       "    </tr>\n",
       "    <tr>\n",
       "      <th>5</th>\n",
       "      <td>2.0</td>\n",
       "      <td>4</td>\n",
       "      <td>9.9</td>\n",
       "      <td>232</td>\n",
       "    </tr>\n",
       "    <tr>\n",
       "      <th>6</th>\n",
       "      <td>2.0</td>\n",
       "      <td>4</td>\n",
       "      <td>10.3</td>\n",
       "      <td>242</td>\n",
       "    </tr>\n",
       "    <tr>\n",
       "      <th>7</th>\n",
       "      <td>2.0</td>\n",
       "      <td>4</td>\n",
       "      <td>9.8</td>\n",
       "      <td>230</td>\n",
       "    </tr>\n",
       "    <tr>\n",
       "      <th>8</th>\n",
       "      <td>2.0</td>\n",
       "      <td>4</td>\n",
       "      <td>9.8</td>\n",
       "      <td>231</td>\n",
       "    </tr>\n",
       "  </tbody>\n",
       "</table>\n",
       "</div>"
      ],
      "text/plain": [
       "   enginesize  cylinders  fuelconsumption_comb  co2emissions\n",
       "0         1.5          4                   7.2           167\n",
       "1         1.5          4                   7.4           172\n",
       "2         1.5          4                   7.8           181\n",
       "3         3.5          6                  11.2           263\n",
       "4         3.0          6                  12.4           291\n",
       "5         2.0          4                   9.9           232\n",
       "6         2.0          4                  10.3           242\n",
       "7         2.0          4                   9.8           230\n",
       "8         2.0          4                   9.8           231"
      ]
     },
     "execution_count": 139,
     "metadata": {},
     "output_type": "execute_result"
    }
   ],
   "source": [
    "# extracting specific columns and assigning to a new dataframe\n",
    "cdf = df[['enginesize', 'cylinders', 'fuelconsumption_comb', 'co2emissions']]\n",
    "cdf.head(9)"
   ]
  },
  {
   "cell_type": "code",
   "execution_count": 140,
   "metadata": {},
   "outputs": [
    {
     "data": {
      "image/png": "[encoded data removed]",
      "text/plain": [
       "<Figure size 640x480 with 1 Axes>"
      ]
     },
     "metadata": {},
     "output_type": "display_data"
    }
   ],
   "source": [
    "# plotting 'co2emissions' with respect to 'enginesize'\n",
    "plt.scatter(cdf.enginesize, cdf.co2emissions, color='blue')\n",
    "plt.xlabel('Engine Size')\n",
    "plt.ylabel('Emissions')\n",
    "plt.show()"
   ]
  },
  {
   "attachments": {},
   "cell_type": "markdown",
   "metadata": {},
   "source": [
    "## Splitting and Training\n",
    "Like we did in the first two sections, we'll begin by splitting the dataset into training and testing sets for our model. We'll split the dataset randomly using np.random.rand() with 80% of the dataset being using for training and 20% for testing. To do this we'll create a mask that accounts for a random 80% chunk of our dataframe and assign it to a 'train' set then use the rest for our 'test' set (20%)."
   ]
  },
  {
   "cell_type": "code",
   "execution_count": 141,
   "metadata": {},
   "outputs": [],
   "source": [
    "# splitting the data 80:20\n",
    "msk = np.random.rand(len(df)) < 0.8\n",
    "train = cdf[msk]\n",
    "test = cdf[~msk]"
   ]
  },
  {
   "attachments": {},
   "cell_type": "markdown",
   "metadata": {},
   "source": [
    "## Quadratic Model\n",
    "First we'll create a quadratic model where the polynomial has a degree of 2."
   ]
  },
  {
   "cell_type": "code",
   "execution_count": 142,
   "metadata": {},
   "outputs": [
    {
     "data": {
      "text/plain": [
       "array([[ 1.  ,  1.5 ,  2.25],\n",
       "       [ 1.  ,  3.5 , 12.25],\n",
       "       [ 1.  ,  3.  ,  9.  ],\n",
       "       ...,\n",
       "       [ 1.  ,  2.  ,  4.  ],\n",
       "       [ 1.  ,  2.  ,  4.  ],\n",
       "       [ 1.  ,  2.  ,  4.  ]])"
      ]
     },
     "execution_count": 142,
     "metadata": {},
     "output_type": "execute_result"
    }
   ],
   "source": [
    "# further splitting the training and testing data\n",
    "train_x = np.asanyarray(train[['enginesize']])\n",
    "train_y = np.asanyarray(train[['co2emissions']])\n",
    "\n",
    "test_x = np.asanyarray(test[['enginesize']])\n",
    "test_y = np.asanyarray(test[['co2emissions']])\n",
    "\n",
    "# creating a second degree polynomial\n",
    "poly = PolynomialFeatures(degree=2)\n",
    "train_x_poly = poly.fit_transform(train_x)\n",
    "train_x_poly"
   ]
  },
  {
   "cell_type": "code",
   "execution_count": 143,
   "metadata": {},
   "outputs": [
    {
     "name": "stdout",
     "output_type": "stream",
     "text": [
      "The coefficients are: [[ 0.         48.04749105 -1.24362829]]\n",
      "The intercept is: [119.0790162]\n"
     ]
    }
   ],
   "source": [
    "# creating the linear regression\n",
    "LR = linear_model.LinearRegression()\n",
    "train_y1 = LR.fit(train_x_poly, train_y)\n",
    "\n",
    "# printing the coefficients\n",
    "print(f'The coefficients are: {LR.coef_}')\n",
    "print(f'The intercept is: {LR.intercept_}')"
   ]
  },
  {
   "cell_type": "code",
   "execution_count": 144,
   "metadata": {},
   "outputs": [
    {
     "data": {
      "image/png": "[encoded data removed]",
      "text/plain": [
       "<Figure size 640x480 with 1 Axes>"
      ]
     },
     "metadata": {},
     "output_type": "display_data"
    }
   ],
   "source": [
    "# plotting\n",
    "plt.scatter(train.enginesize, train.co2emissions, color='blue')\n",
    "XX = np.arange(0.0, 10.0, 0.1)\n",
    "yy = LR.intercept_[0]+ LR.coef_[0][1]*XX+ LR.coef_[0][2]*np.power(XX,2)\n",
    "\n",
    "plt.plot(XX, yy, '-r')\n",
    "plt.xlabel('Engine Size')\n",
    "plt.ylabel('Emission')\n",
    "plt.show()"
   ]
  },
  {
   "attachments": {},
   "cell_type": "markdown",
   "metadata": {},
   "source": [
    "### Model Evaluation\n",
    "Finally we'll evaluate how well the model performs against our data. We'll do this by using the 'r2_score' metric from the 'sci-kit learn' library which I've imported in the first section."
   ]
  },
  {
   "cell_type": "code",
   "execution_count": 145,
   "metadata": {},
   "outputs": [
    {
     "name": "stdout",
     "output_type": "stream",
     "text": [
      "The mean absolute error is: 27.84036557277321\n",
      "The residual sum of squares (MSE) is: 16.48331987423813\n",
      "The r2-score is: 0.5946819657715278\n"
     ]
    }
   ],
   "source": [
    "# looking at the metrics\n",
    "test_x_poly = poly.transform(test_x)\n",
    "test_y1 = LR.predict(test_x_poly)\n",
    "\n",
    "print(f'The mean absolute error is: {np.mean(np.absolute(test_y1 - test_y))}')\n",
    "print(f'The residual sum of squares (MSE) is: {np.mean(test_y1 - test_y)**2}')\n",
    "print(f'The r2-score is: {r2_score(test_y, test_y1)}')"
   ]
  },
  {
   "attachments": {},
   "cell_type": "markdown",
   "metadata": {},
   "source": [
    "As we can see, this model doesn't perform very well. Actually, the r<sup>2</sup> value is similar to the r<sup>2</sup> value we found when doing simple linear regression in a previous notebook. Let's try changing the order (degree) of our polynomial to see if we can get a better fit.\n",
    "## Cubic Model\n",
    "This time we'll create a cubic model where the polynomial has a degree of 3."
   ]
  },
  {
   "cell_type": "code",
   "execution_count": 146,
   "metadata": {},
   "outputs": [
    {
     "name": "stdout",
     "output_type": "stream",
     "text": [
      "The coefficients are: [[  0.         169.89826987 -34.32547263   2.69941188]]\n",
      "The intercept is: [-13.90331482]\n"
     ]
    },
    {
     "data": {
      "image/png": "[encoded data removed]",
      "text/plain": [
       "<Figure size 640x480 with 1 Axes>"
      ]
     },
     "metadata": {},
     "output_type": "display_data"
    }
   ],
   "source": [
    "# creating a new model to the third degree\n",
    "poly3 = PolynomialFeatures(degree=3)\n",
    "train_x_poly3 = poly3.fit_transform(train_x)\n",
    "LR3 = linear_model.LinearRegression()\n",
    "train_y3 = LR3.fit(train_x_poly3, train_y)\n",
    "\n",
    "# the coefficients\n",
    "print(f'The coefficients are: {LR3.coef_}')\n",
    "print(f'The intercept is: {LR3.intercept_}')\n",
    "\n",
    "# plotting the new fit\n",
    "plt.scatter(train.enginesize, train.co2emissions, color='blue')\n",
    "XX = np.arange(0.0, 10.0, 0.1)\n",
    "yy = LR3.intercept_[0]+ LR3.coef_[0][1]*XX+ LR3.coef_[0][2]*np.power(XX,2)+ LR3.coef_[0][3]*np.power(XX,3)\n",
    "\n",
    "plt.plot(XX, yy, '-r')\n",
    "plt.xlabel('Engine Size')\n",
    "plt.ylabel('Emission')\n",
    "plt.show()\n"
   ]
  },
  {
   "attachments": {},
   "cell_type": "markdown",
   "metadata": {},
   "source": [
    "### Model Evaluation"
   ]
  },
  {
   "cell_type": "code",
   "execution_count": 149,
   "metadata": {},
   "outputs": [
    {
     "name": "stdout",
     "output_type": "stream",
     "text": [
      "The mean absolute error is: 26.408019504964173\n",
      "The residual sum of squares (MSE) is: 18.69790199114554\n",
      "The r2-score is: 0.6015314516889001\n"
     ]
    }
   ],
   "source": [
    "# looking at the metrics\n",
    "test_x_poly3 = poly3.transform(test_x)\n",
    "test_y3 = LR3.predict(test_x_poly3)\n",
    "\n",
    "print(f'The mean absolute error is: {np.mean(np.absolute(test_y3 - test_y))}')\n",
    "print(f'The residual sum of squares (MSE) is: {np.mean(test_y3 - test_y)**2}')\n",
    "print(f'The r2-score is: {r2_score(test_y, test_y3)}')"
   ]
  },
  {
   "attachments": {},
   "cell_type": "markdown",
   "metadata": {},
   "source": [
    "## Conclusion\n",
    "As we can see from above, our cubic model fits the data much better than our quadratic model and especially our simple linear regression model. However, our r<sup>2</sup> value is still similar, suggesting that all three models don't account for the variance in data very well. The variance in our data was best explained using multiple linear regression with 'enginesize', 'cylinders', and 'fuelconsumption_comb' relating to 'co2emissions' which was seen in the previous notebook.\n",
    "\n",
    "(end)"
   ]
  }
 ],
 "metadata": {
  "kernelspec": {
   "display_name": "base",
   "language": "python",
   "name": "python3"
  },
  "language_info": {
   "codemirror_mode": {
    "name": "ipython",
    "version": 3
   },
   "file_extension": ".py",
   "mimetype": "text/x-python",
   "name": "python",
   "nbconvert_exporter": "python",
   "pygments_lexer": "ipython3",
   "version": "3.9.13"
  },
  "orig_nbformat": 4
 },
 "nbformat": 4,
 "nbformat_minor": 2
}
